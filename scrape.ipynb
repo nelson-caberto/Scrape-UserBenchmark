{
 "metadata": {
  "language_info": {
   "codemirror_mode": {
    "name": "ipython",
    "version": 3
   },
   "file_extension": ".py",
   "mimetype": "text/x-python",
   "name": "python",
   "nbconvert_exporter": "python",
   "pygments_lexer": "ipython3",
   "version": "3.8.0-final"
  },
  "orig_nbformat": 2,
  "kernelspec": {
   "name": "python38032bit97065adfe6ba481f89e7385046dceef3",
   "display_name": "Python 3.8.0 32-bit"
  }
 },
 "nbformat": 4,
 "nbformat_minor": 2,
 "cells": [
  {
   "cell_type": "code",
   "execution_count": 3,
   "metadata": {
    "tags": []
   },
   "outputs": [],
   "source": [
    "from lxml import html\n",
    "import requests"
   ]
  },
  {
   "cell_type": "code",
   "execution_count": 2,
   "metadata": {},
   "outputs": [],
   "source": [
    "user_agent = 'Mozilla/5.0 (X11; Linux x86_64; rv:68.0) Gecko/20100101 Firefox/68.0'\n",
    "headers = {'User-Agent': user_agent}\n",
    "url = 'https://www.userbenchmark.com/page/developer'\n",
    "\n",
    "response = requests.get(url, headers=headers)\n",
    "\n",
    "page = html.fromstring(response.content)"
   ]
  },
  {
   "cell_type": "code",
   "execution_count": 17,
   "metadata": {},
   "outputs": [
    {
     "output_type": "execute_result",
     "data": {
      "text/plain": "['CPU (1,256) ']"
     },
     "metadata": {},
     "execution_count": 17
    }
   ],
   "source": [
    "page.xpath('/html/body/div[2]/div/div[4]/div[1]/div/a[1]/text()')"
   ]
  },
  {
   "cell_type": "code",
   "execution_count": 169,
   "metadata": {},
   "outputs": [],
   "source": [
    "csvList = page.xpath('//div[@class=\"list-group\"]/a/@href')\n",
    "\n",
    "for url in csvList:\n",
    "    urlcomponents = url.split('/')\n",
    "    filename = urlcomponents[-1]\n",
    "    with open(filename,'wb') as outputCSV:\n",
    "        response = requests.get(csv, headers=headers)\n",
    "        outputCSV.write(response.content)"
   ]
  },
  {
   "cell_type": "code",
   "execution_count": null,
   "metadata": {
    "tags": []
   },
   "outputs": [],
   "source": [
    "import csv\n",
    "import time\n",
    "import pickle\n",
    "import os\n",
    "import random\n",
    "\n",
    "with open('CPU_UserBenchmarks.csv', newline='') as inputFile:\n",
    "    reader = csv.DictReader(inputFile)\n",
    "    for row in reader:\n",
    "        filename = row[\"URL\"].split('/')[-1]\n",
    "        if os.path.exists(f'html\\{filename}.response'):\n",
    "            continue\n",
    "        response = requests.get(row['URL'], headers=headers)\n",
    "        if \"We need to ensure that you are not a robot.\" in response.content:\n",
    "            break\n",
    "        pickle.dump(response, open(f'html\\{filename}.response','wb'))\n",
    "        randV = random.randint(10,30)\n",
    "        print(filename, randV)\n",
    "        break\n",
    "        time.sleep(randV)\n",
    "        "
   ]
  },
  {
   "cell_type": "code",
   "execution_count": null,
   "metadata": {},
   "outputs": [],
   "source": [
    "import random\n",
    "random.randint(10,30)"
   ]
  },
  {
   "cell_type": "code",
   "execution_count": null,
   "metadata": {
    "tags": []
   },
   "outputs": [],
   "source": [
    "import csv\n",
    "import time\n",
    "\n",
    "with open('CPU_UserBenchmarks.csv', newline='') as inputFile:\n",
    "    reader = csv.DictReader(inputFile)\n",
    "    with open('cpu.csv', 'w', newline='') as outputFile:\n",
    "        first = True\n",
    "        for row in reader:\n",
    "            if first:\n",
    "                fieldnames = reader._fieldnames\n",
    "                fieldnames.extend(info.keys())\n",
    "                writer = csv.DictWriter(outputFile, fieldnames)\n",
    "                writer.writeheader()\n",
    "                first = False\n",
    "            page = html.fromstring(requests.get(row['URL'], headers=headers).content)\n",
    "            print(row['URL'])\n",
    "            for key in info:\n",
    "                try:\n",
    "                    row[key] = getXPathValue(**info[key])\n",
    "                except:\n",
    "                    continue\n",
    "            writer.writerow(row)\n",
    "            time.sleep(60)"
   ]
  },
  {
   "cell_type": "code",
   "execution_count": null,
   "metadata": {},
   "outputs": [],
   "source": [
    "response = requests.get('http://d22.org')"
   ]
  },
  {
   "cell_type": "code",
   "execution_count": null,
   "metadata": {},
   "outputs": [],
   "source": []
  },
  {
   "cell_type": "code",
   "execution_count": 11,
   "metadata": {},
   "outputs": [],
   "source": [
    "from selenium import webdriver\n",
    "from selenium.webdriver.chrome import service\n",
    "\n",
    "webdriver_service = service.Service('operadriver.exe')\n",
    "webdriver_service.start()\n"
   ]
  },
  {
   "cell_type": "code",
   "execution_count": 12,
   "metadata": {},
   "outputs": [],
   "source": [
    "driver = webdriver.Remote(webdriver_service.service_url,webdriver.DesiredCapabilities.OPERA)"
   ]
  },
  {
   "cell_type": "code",
   "execution_count": 13,
   "metadata": {},
   "outputs": [],
   "source": [
    "driver.switch_to_window(driver.window_handles[0])"
   ]
  },
  {
   "cell_type": "code",
   "execution_count": 14,
   "metadata": {},
   "outputs": [],
   "source": [
    "driver.get('https://www.google.com')"
   ]
  },
  {
   "cell_type": "code",
   "execution_count": 15,
   "metadata": {
    "tags": []
   },
   "outputs": [],
   "source": [
    "import csv\n",
    "import time\n",
    "import pickle\n",
    "import os\n",
    "import random\n"
   ]
  },
  {
   "cell_type": "code",
   "execution_count": 16,
   "metadata": {
    "tags": []
   },
   "outputs": [],
   "source": [
    "with open('CPU_UserBenchmarks.csv', newline='') as inputFile:\n",
    "    reader = csv.DictReader(inputFile)\n",
    "    for row in reader:\n",
    "        filename = row[\"URL\"].split('/')[-1]\n",
    "        if os.path.exists(f'cpu\\{filename}.response'):\n",
    "            continue\n",
    "        if \"We need to ensure that you are not a robot.\" in driver.page_source:\n",
    "            print('robot!')\n",
    "            break\n",
    "        driver.get(row['URL'])\n",
    "        print(row['URL'])\n",
    "        pickle.dump(driver.page_source, open(f'cpu\\{filename}.response','wb'))\n",
    "        randV = random.randint(10,30)\n",
    "        print(filename, randV)\n",
    "        # break\n",
    "        # time.sleep(randV)"
   ]
  },
  {
   "cell_type": "code",
   "execution_count": null,
   "metadata": {},
   "outputs": [],
   "source": [
    "driver.quit()"
   ]
  },
  {
   "cell_type": "code",
   "execution_count": 161,
   "metadata": {
    "tags": []
   },
   "outputs": [],
   "source": [
    "info = {\n",
    "    'Effective Speed':{'xpath':'//span[text()=\"Effective Speed \"]/span[1]/text()','replace':False,'removeLast':-2},\n",
    "    'Average Score':{'xpath':'//span[text()=\"Average Score \"]/span[1]/text()','replace':False,'removeLast':-2},\n",
    "    'Overclocked Score':{'xpath':'//span[text()=\"Overclocked Score \"]/span[1]/text()','replace':False,'removeLast':-2},\n",
    "    'Value & Sentiment':{'xpath':'//span[text()=\"Value & Sentiment \"]/span[1]/text()','replace':(',',''),'removeLast':-1},\n",
    "    # 'Nice To Haves':{'xpath':'//span[text()=\"Nice To Haves \"]/span[1]/text()','replace':False,'removeLast':-2},\n",
    "    'Code Name':{'xpath':'//td[text()=\"Code Name\"]/../td/span/text()','replace':False,'removeLast':None,'number':False},\n",
    "    'Launch Date':{'xpath':'//td[text()=\"Launch Date\"]/../td/span/text()','replace':False,'removeLast':None,'number':False},\n",
    "    'Processor Number':{'xpath':'//td[text()=\"Processor Number\"]/../td/span/text()','replace':False,'removeLast':None,'number':False},\n",
    "    '# of Cores':{'xpath':'//td[text()=\"# of Cores\"]/../td/span/text()','replace':False,'removeLast':None},\n",
    "    '# of Threads':{'xpath':'//td[text()=\"# of Threads\"]/../td/span/text()','replace':False,'removeLast':None},\n",
    "    'Max TDP':{'xpath':'//td[text()=\"Max TDP\"]/../td/span/text()','replace':False,'removeLast':-2},\n",
    "    'Price':{'xpath':'//span[@id=\"stickypriceid\"]/a/span/text()','replace':False,'removeFirst':7},\n",
    "    'Sockets Supported':{'xpath':'//td[text()=\"Sockets Supported\"]/../td/span/text()','number':False}\n",
    "}"
   ]
  },
  {
   "cell_type": "code",
   "execution_count": 19,
   "metadata": {},
   "outputs": [
    {
     "output_type": "error",
     "ename": "AttributeError",
     "evalue": "module 'lxml.html' has no attribute 'fromstraing'",
     "traceback": [
      "\u001b[1;31m---------------------------------------------------------------------------\u001b[0m",
      "\u001b[1;31mAttributeError\u001b[0m                            Traceback (most recent call last)",
      "\u001b[1;32m<ipython-input-19-72e1b9e74fc2>\u001b[0m in \u001b[0;36m<module>\u001b[1;34m\u001b[0m\n\u001b[0;32m      4\u001b[0m         \u001b[0mfilename\u001b[0m \u001b[1;33m=\u001b[0m \u001b[0mrow\u001b[0m\u001b[1;33m[\u001b[0m\u001b[1;34m\"URL\"\u001b[0m\u001b[1;33m]\u001b[0m\u001b[1;33m.\u001b[0m\u001b[0msplit\u001b[0m\u001b[1;33m(\u001b[0m\u001b[1;34m'/'\u001b[0m\u001b[1;33m)\u001b[0m\u001b[1;33m[\u001b[0m\u001b[1;33m-\u001b[0m\u001b[1;36m1\u001b[0m\u001b[1;33m]\u001b[0m\u001b[1;33m\u001b[0m\u001b[1;33m\u001b[0m\u001b[0m\n\u001b[0;32m      5\u001b[0m         \u001b[0mmeh\u001b[0m \u001b[1;33m=\u001b[0m \u001b[0mpickle\u001b[0m\u001b[1;33m.\u001b[0m\u001b[0mload\u001b[0m\u001b[1;33m(\u001b[0m\u001b[0mopen\u001b[0m\u001b[1;33m(\u001b[0m\u001b[1;34mf'cpu\\{filename}.response'\u001b[0m\u001b[1;33m,\u001b[0m\u001b[1;34m'rb'\u001b[0m\u001b[1;33m)\u001b[0m\u001b[1;33m)\u001b[0m\u001b[1;33m\u001b[0m\u001b[1;33m\u001b[0m\u001b[0m\n\u001b[1;32m----> 6\u001b[1;33m         \u001b[0mpage\u001b[0m \u001b[1;33m=\u001b[0m \u001b[0mhtml\u001b[0m\u001b[1;33m.\u001b[0m\u001b[0mfromstraing\u001b[0m\u001b[1;33m(\u001b[0m\u001b[0mmeh\u001b[0m\u001b[1;33m)\u001b[0m\u001b[1;33m\u001b[0m\u001b[1;33m\u001b[0m\u001b[0m\n\u001b[0m\u001b[0;32m      7\u001b[0m         \u001b[0mprint\u001b[0m\u001b[1;33m(\u001b[0m\u001b[0mpage\u001b[0m\u001b[1;33m.\u001b[0m\u001b[0mxpath\u001b[0m\u001b[1;33m(\u001b[0m\u001b[1;34m'//span[text()=\"Effective Speed \"]/span[1]/text()'\u001b[0m\u001b[1;33m)\u001b[0m\u001b[1;33m)\u001b[0m\u001b[1;33m\u001b[0m\u001b[1;33m\u001b[0m\u001b[0m\n\u001b[0;32m      8\u001b[0m         \u001b[1;32mbreak\u001b[0m\u001b[1;33m\u001b[0m\u001b[1;33m\u001b[0m\u001b[0m\n",
      "\u001b[1;31mAttributeError\u001b[0m: module 'lxml.html' has no attribute 'fromstraing'"
     ]
    }
   ],
   "source": [
    "with open('CPU_UserBenchmarks.csv', newline='') as inputFile:\n",
    "    reader = csv.DictReader(inputFile)\n",
    "    for row in reader:\n",
    "        filename = row[\"URL\"].split('/')[-1]\n",
    "        meh = pickle.load(open(f'cpu\\{filename}.response','rb'))\n",
    "        if type(meh) is str:\n",
    "            page = html.fromstring(meh)\n",
    "        else:\n",
    "            page = html.fromstring(meh.content)\n",
    "        print(page.xpath('//span[text()=\"Effective Speed \"]/span[1]/text()'))\n",
    "        break"
   ]
  },
  {
   "cell_type": "code",
   "execution_count": 165,
   "metadata": {
    "tags": [
     "outputPrepend"
    ]
   },
   "outputs": [
    {
     "output_type": "stream",
     "name": "stdout",
     "text": "st index out of range one\n--------IntelR-PentiumR-M-processor-186GHz\ninvalid literal for int() with base 10: '-1,52' Average Score\ninvalid literal for int() with base 10: '-1,44' Overclocked Score\nlist index out of range one\nlist index out of range one\nlist index out of range one\nlist index out of range one\nlist index out of range one\nlist index out of range one\nlist index out of range one\nlist index out of range one\nAMD-Athlontm-64-X2-Dual-Core-Processor-TK-55\nlist index out of range one\nlist index out of range one\nlist index out of range one\nlist index out of range one\nlist index out of range one\nlist index out of range one\nlist index out of range one\nlist index out of range one\nlist index out of range one\nIntelR-CeleronR-N4000-CPU---110GHz\nlist index out of range one\nAMD-E-350D-APU-with-Radeontm-HD-Graphics\nlist index out of range one\nlist index out of range one\nlist index out of range one\nlist index out of range one\nlist index out of range one\nlist index out of range one\nlist index out of range one\nlist index out of range one\nlist index out of range one\n--------------IntelR-PentiumR-4-CPU-280GHz\nlist index out of range one\nlist index out of range one\nlist index out of range one\nlist index out of range one\nlist index out of range one\nlist index out of range one\nlist index out of range one\nlist index out of range one\nIntelR-AtomTM-x5-Z8550--CPU---144GHz\nlist index out of range one\nlist index out of range one\nlist index out of range one\nAMD-E2-9000e-RADEON-R2-4-COMPUTE-CORES-2C-2G\nlist index out of range one\nlist index out of range one\nlist index out of range one\nlist index out of range one\nlist index out of range one\nlist index out of range one\nlist index out of range one\nlist index out of range one\nAMD-Athlontm-X2-Dual-Core-Processor-BE-2300\nlist index out of range one\nlist index out of range one\nlist index out of range one\nlist index out of range one\nlist index out of range one\nlist index out of range one\nlist index out of range one\nlist index out of range one\nlist index out of range one\nAMD-E-450-APU-with-Radeontm-HD-Graphics\nlist index out of range one\nlist index out of range one\nlist index out of range one\nlist index out of range one\nlist index out of range one\nlist index out of range one\nlist index out of range one\nlist index out of range one\nAMD-Athlontm-Neo-X2-Dual-Core-Processor-L335\nlist index out of range one\nlist index out of range one\nlist index out of range one\nlist index out of range one\nlist index out of range one\nlist index out of range one\nlist index out of range one\nlist index out of range one\nlist index out of range one\nMobile-AMD-Semprontm-Processor-3600-\ninvalid literal for int() with base 10: '-1,11' Average Score\ninvalid literal for int() with base 10: '-1,02' Overclocked Score\nlist index out of range one\nlist index out of range one\nlist index out of range one\nlist index out of range one\nlist index out of range one\nlist index out of range one\nlist index out of range one\nlist index out of range one\nlist index out of range one\n--------IntelR-PentiumR-M-processor-173GHz\ninvalid literal for int() with base 10: '-1,67' Average Score\ninvalid literal for int() with base 10: '-1,56' Overclocked Score\nlist index out of range one\nlist index out of range one\nlist index out of range one\nlist index out of range one\nlist index out of range one\nlist index out of range one\nlist index out of range one\nlist index out of range one\nIntelR-AtomTM-x5-Z8330--CPU---144GHz\nlist index out of range one\nlist index out of range one\nlist index out of range one\nlist index out of range one\nIntelR-AtomTM-x5-Z8500--CPU---144GHz\nlist index out of range one\nlist index out of range one\nlist index out of range one\nAMD-E2-1800-APU-with-Radeontm-HD-Graphics\nlist index out of range one\nlist index out of range one\nlist index out of range one\nlist index out of range one\nlist index out of range one\nlist index out of range one\nlist index out of range one\nlist index out of range one\nIntelR-AtomTM-CPU-D2700-----213GHz\ninvalid literal for int() with base 10: '-1,00' Average Score\nlist index out of range one\nAMD-E2-2000-APU-with-Radeontm-HD-Graphics\nlist index out of range one\nlist index out of range one\nlist index out of range one\nlist index out of range one\nlist index out of range one\nlist index out of range one\nlist index out of range one\nlist index out of range one\nlist index out of range one\nAMD-E-350-Processor\nlist index out of range one\nlist index out of range one\nlist index out of range one\nlist index out of range one\nlist index out of range one\nlist index out of range one\nlist index out of range one\nlist index out of range one\nIntelR-CeleronR-CPU----------723----120GHz\ninvalid literal for int() with base 10: '-1,79' Average Score\ninvalid literal for int() with base 10: '-1,66' Overclocked Score\nlist index out of range one\nlist index out of range one\nlist index out of range one\nAMD-Semprontm-Processor-2800-\ninvalid literal for int() with base 10: '-1,28' Average Score\ninvalid literal for int() with base 10: '-1,09' Overclocked Score\nlist index out of range one\nlist index out of range one\nlist index out of range one\nlist index out of range one\nlist index out of range one\nlist index out of range one\nlist index out of range one\nlist index out of range one\nlist index out of range one\nIntelR-AtomTM-CPU-N2800-----186GHz\ninvalid literal for int() with base 10: '-1,15' Average Score\ninvalid literal for int() with base 10: '-1,13' Overclocked Score\nlist index out of range one\ninvalid literal for int() with base 10: '6.5' Max TDP\nlist index out of range one\nAMD-Athlontm-64-X2-Dual-Core-Processor-TK-53\nlist index out of range one\nlist index out of range one\nlist index out of range one\nlist index out of range one\nlist index out of range one\nlist index out of range one\nlist index out of range one\nlist index out of range one\nlist index out of range one\nIntelR-CeleronR-CPU-J3355---200GHz\nlist index out of range one\nlist index out of range one\n--------------IntelR-PentiumR-4-CPU-260GHz\nlist index out of range one\nlist index out of range one\nlist index out of range one\nlist index out of range one\nlist index out of range one\nlist index out of range one\nlist index out of range one\nlist index out of range one\nlist index out of range one\nAMD-Semprontm-Processor-3000-\ninvalid literal for int() with base 10: '-1,26' Average Score\ninvalid literal for int() with base 10: '-1,12' Overclocked Score\nlist index out of range one\nlist index out of range one\nlist index out of range one\nlist index out of range one\nlist index out of range one\nlist index out of range one\nlist index out of range one\nlist index out of range one\n-------------IntelR-PentiumR-D--CPU-266GHz\nlist index out of range one\nlist index out of range one\nlist index out of range one\nlist index out of range one\nlist index out of range one\nlist index out of range one\nlist index out of range one\nlist index out of range one\nAMD-Athlontm-Neo-Processor-MV-40\ninvalid literal for int() with base 10: '-1,43' Average Score\ninvalid literal for int() with base 10: '-1,29' Overclocked Score\nlist index out of range one\nlist index out of range one\nlist index out of range one\nlist index out of range one\nlist index out of range one\nlist index out of range one\nlist index out of range one\nlist index out of range one\nlist index out of range one\nIntelR-CeleronR-CPU--N3010----104GHz\nlist index out of range one\nlist index out of range one\n--------------IntelR-PentiumR-4-CPU-293GHz\ninvalid literal for int() with base 10: '-1,14' Average Score\nlist index out of range one\nlist index out of range one\nlist index out of range one\nlist index out of range one\nlist index out of range one\nlist index out of range one\nlist index out of range one\nlist index out of range one\nAMD-Athlontm-Processor-2650e\ninvalid literal for int() with base 10: '-1,39' Average Score\ninvalid literal for int() with base 10: '-1,29' Overclocked Score\nlist index out of range one\nlist index out of range one\nlist index out of range one\nlist index out of range one\nlist index out of range one\nlist index out of range one\nlist index out of range one\nlist index out of range one\n--------------IntelR-PentiumR-4-CPU-306GHz\nlist index out of range one\nlist index out of range one\nlist index out of range one\nlist index out of range one\nlist index out of range one\nlist index out of range one\nlist index out of range one\nlist index out of range one\n--------IntelR-PentiumR-M-processor-160GHz\ninvalid literal for int() with base 10: '-1,83' Average Score\ninvalid literal for int() with base 10: '-1,69' Overclocked Score\nlist index out of range one\nlist index out of range one\nlist index out of range one\nlist index out of range one\nlist index out of range one\nlist index out of range one\nlist index out of range one\nlist index out of range one\nlist index out of range one\nIntelR-AtomTM-x5-Z8300--CPU---144GHz\nlist index out of range one\nlist index out of range one\nlist index out of range one\nIntelR-CeleronR-M-CPU--------430----173GHz\ninvalid literal for int() with base 10: '-1,63' Average Score\ninvalid literal for int() with base 10: '-1,56' Overclocked Score\nlist index out of range one\nlist index out of range one\nlist index out of range one\nlist index out of range one\nlist index out of range one\nlist index out of range one\nlist index out of range one\nlist index out of range one\nlist index out of range one\nIntelR-CeleronR-CPU-N3350---110GHz\nlist index out of range one\nIntelR-CeleronR-CPU--N3000----104GHz\nlist index out of range one\nlist index out of range one\nAMD-C-60-APU-with-Radeontm-HD-Graphics\ninvalid literal for int() with base 10: '-1,20' Average Score\ninvalid literal for int() with base 10: '-1,05' Overclocked Score\nlist index out of range one\nlist index out of range one\nlist index out of range one\nlist index out of range one\nlist index out of range one\nlist index out of range one\nlist index out of range one\nlist index out of range one\nlist index out of range one\nAMD-E1-1200-APU-with-Radeontm-HD-Graphics\ninvalid literal for int() with base 10: '-1,03' Average Score\nlist index out of range one\nlist index out of range one\nlist index out of range one\nlist index out of range one\nlist index out of range one\nlist index out of range one\nlist index out of range one\nlist index out of range one\nlist index out of range one\nIntelR-AtomTM-x5-Z8350--CPU---144GHz\nlist index out of range one\nlist index out of range one\nlist index out of range one\nAMD-E-300-APU-with-Radeontm-HD-Graphics\ninvalid literal for int() with base 10: '-1,09' Average Score\nlist index out of range one\nlist index out of range one\nlist index out of range one\nlist index out of range one\nlist index out of range one\nlist index out of range one\nlist index out of range one\n--------------IntelR-PentiumR-4-CPU-240GHz\ninvalid literal for int() with base 10: '-1,22' Average Score\nlist index out of range one\nlist index out of range one\nlist index out of range one\nlist index out of range one\nlist index out of range one\nlist index out of range one\nlist index out of range one\nlist index out of range one\nlist index out of range one\nIntelR-AtomTM-CPU-D525-----180GHz\ninvalid literal for int() with base 10: '-1,25' Average Score\ninvalid literal for int() with base 10: '-1,19' Overclocked Score\nlist index out of range one\nAMD-E1-7010-APU-with-AMD-Radeon-R2-Graphics\nlist index out of range one\nlist index out of range one\nlist index out of range one\nlist index out of range one\nlist index out of range one\nlist index out of range one\nlist index out of range one\nlist index out of range one\nlist index out of range one\n--------------IntelR-PentiumR-4-CPU-266GHz\ninvalid literal for int() with base 10: '-1,25' Average Score\ninvalid literal for int() with base 10: '-1,02' Overclocked Score\nlist index out of range one\nlist index out of range one\nlist index out of range one\nlist index out of range one\nlist index out of range one\nlist index out of range one\nlist index out of range one\nlist index out of range one\nIntelR-AtomTM-CPU-N570-----166GHz\ninvalid literal for int() with base 10: '-1,34' Average Score\ninvalid literal for int() with base 10: '-1,29' Overclocked Score\nlist index out of range one\ninvalid literal for int() with base 10: '8.5' Max TDP\nlist index out of range one\nlist index out of range one\nAMD-E1-2500-APU-with-RadeonTM-HD-Graphics\nlist index out of range one\nlist index out of range one\nlist index out of range one\nlist index out of range one\nlist index out of range one\nlist index out of range one\nlist index out of range one\nlist index out of range one\nlist index out of range one\nIntelR-AtomTM-CPU-N2600-----160GHz\ninvalid literal for int() with base 10: '-1,37' Average Score\ninvalid literal for int() with base 10: '-1,33' Overclocked Score\nlist index out of range one\ninvalid literal for int() with base 10: '3.5' Max TDP\nlist index out of range one\nIntelR-CeleronR-CPU--N3060----160GHz\nlist index out of range one\nlist index out of range one\nIntelR-AtomTM-CPU--330-----160GHz\ninvalid literal for int() with base 10: '-1,37' Average Score\ninvalid literal for int() with base 10: '-1,14' Overclocked Score\nlist index out of range one\nlist index out of range one\nlist index out of range one\nIntelR-CeleronR-CPU-280GHz\ninvalid literal for int() with base 10: '-1,42' Average Score\ninvalid literal for int() with base 10: '-1,26' Overclocked Score\nlist index out of range one\nlist index out of range one\nlist index out of range one\nlist index out of range one\nlist index out of range one\nlist index out of range one\nlist index out of range one\nlist index out of range one\nlist index out of range one\nAMD-C-50-Processor\ninvalid literal for int() with base 10: '-1,39' Average Score\ninvalid literal for int() with base 10: '-1,28' Overclocked Score\nlist index out of range one\nlist index out of range one\nlist index out of range one\nlist index out of range one\nlist index out of range one\nlist index out of range one\nlist index out of range one\nlist index out of range one\nlist index out of range one\nIntelR-AtomTM-CPU-N550-----150GHz\ninvalid literal for int() with base 10: '-1,54' Average Score\ninvalid literal for int() with base 10: '-1,44' Overclocked Score\nlist index out of range one\ninvalid literal for int() with base 10: '8.5' Max TDP\nlist index out of range one\nlist index out of range one\nIntelR-AtomTM-CPU-N450-----166GHz\ninvalid literal for int() with base 10: '-2,35' Average Score\ninvalid literal for int() with base 10: '-2,20' Overclocked Score\nlist index out of range one\ninvalid literal for int() with base 10: '5.5' Max TDP\nlist index out of range one\nIntelR-CeleronR-CPU--N3050----160GHz\nlist index out of range one\nIntelR-AtomTM-CPU-N435-----133GHz\ninvalid literal for int() with base 10: '-3,05' Average Score\ninvalid literal for int() with base 10: '-2,78' Overclocked Score\nlist index out of range one\nlist index out of range one\nlist index out of range one\nlist index out of range one\nlist index out of range one\nlist index out of range one\nlist index out of range one\nlist index out of range one\nIntelR-AtomTM-CPU-D510-----166GHz\ninvalid literal for int() with base 10: '-1,39' Average Score\ninvalid literal for int() with base 10: '-1,30' Overclocked Score\nlist index out of range one\n---------IntelR-AtomTM-CPU-N280-----166GHz\ninvalid literal for int() with base 10: '-2,38' Average Score\ninvalid literal for int() with base 10: '-2,20' Overclocked Score\nlist index out of range one\nlist index out of range one\ninvalid literal for int() with base 10: '2.5' Max TDP\nlist index out of range one\nIntelR-AtomTM-CPU-N455-----166GHz\ninvalid literal for int() with base 10: '-2,40' Average Score\ninvalid literal for int() with base 10: '-2,20' Overclocked Score\ninvalid literal for int() with base 10: '6.5' Max TDP\nlist index out of range one\nIntelR-CeleronR-M-processor---------150GHz\ninvalid literal for int() with base 10: '-1,89' Average Score\ninvalid literal for int() with base 10: '-1,80' Overclocked Score\nlist index out of range one\nlist index out of range one\nlist index out of range one\nlist index out of range one\nlist index out of range one\nlist index out of range one\nlist index out of range one\nlist index out of range one\nlist index out of range one\nIntelR-CeleronR-D-CPU-306GHz\ninvalid literal for int() with base 10: '-1,28' Average Score\ninvalid literal for int() with base 10: '-1,14' Overclocked Score\nlist index out of range one\nlist index out of range one\nlist index out of range one\nlist index out of range one\nlist index out of range one\nlist index out of range one\nlist index out of range one\nlist index out of range one\nlist index out of range one\n---------IntelR-AtomTM-CPU-D410-----166GHz\ninvalid literal for int() with base 10: '-2,41' Average Score\ninvalid literal for int() with base 10: '-2,19' Overclocked Score\nlist index out of range one\nAMD-Z-60-APU-with-Radeontm-HD-Graphics\ninvalid literal for int() with base 10: '-1,39' Average Score\ninvalid literal for int() with base 10: '-1,39' Overclocked Score\nlist index out of range one\nlist index out of range one\nlist index out of range one\nlist index out of range one\nlist index out of range one\nlist index out of range one\nlist index out of range one\nlist index out of range one\nlist index out of range one\nIntelR-AtomTM-CPU-N270-----160GHz\ninvalid literal for int() with base 10: '-2,47' Average Score\ninvalid literal for int() with base 10: '-2,30' Overclocked Score\nlist index out of range one\nlist index out of range one\ninvalid literal for int() with base 10: '2.5' Max TDP\nlist index out of range one\nIntelR-AtomTM-CPU--230-----160GHz\ninvalid literal for int() with base 10: '-2,51' Average Score\ninvalid literal for int() with base 10: '-2,30' Overclocked Score\nlist index out of range one\nlist index out of range one\nlist index out of range one\nAMD-E1-2100-APU-with-RadeonTM-HD-Graphics\ninvalid literal for int() with base 10: '-1,28' Average Score\ninvalid literal for int() with base 10: '-1,11' Overclocked Score\nlist index out of range one\nlist index out of range one\nlist index out of range one\nlist index out of range one\nlist index out of range one\nlist index out of range one\nlist index out of range one\nlist index out of range one\nAMD-Phenomtm-9600-Quad-Core-Processor\nlist index out of range one\nlist index out of range one\nlist index out of range one\nlist index out of range one\nlist index out of range one\nlist index out of range one\nlist index out of range one\nlist index out of range one\nlist index out of range one\n---------IntelR-AtomTM-CPU-Z520-----133GHz\ninvalid literal for int() with base 10: '-2,94' Average Score\ninvalid literal for int() with base 10: '-2,66' Overclocked Score\nlist index out of range one\nlist index out of range one\nlist index out of range one\nIntelR-AtomTM-CPU-Z2760----180GHz\ninvalid literal for int() with base 10: '-1,25' Average Score\ninvalid literal for int() with base 10: '-1,20' Overclocked Score\nlist index out of range one\nlist index out of range one\nlist index out of range one\nAMD-A4-1250-APU-with-RadeonTM-HD-Graphics\ninvalid literal for int() with base 10: '-1,30' Average Score\ninvalid literal for int() with base 10: '-1,12' Overclocked Score\nlist index out of range one\nlist index out of range one\nlist index out of range one\nlist index out of range one\nlist index out of range one\nlist index out of range one\nlist index out of range one\nlist index out of range one\nlist index out of range one\nAMD-A4-1200-APU-with-RadeonTM-HD-Graphics\ninvalid literal for int() with base 10: '-1,24' Average Score\ninvalid literal for int() with base 10: '-1,11' Overclocked Score\nlist index out of range one\nlist index out of range one\nlist index out of range one\nlist index out of range one\nlist index out of range one\nlist index out of range one\nlist index out of range one\nlist index out of range one\nlist index out of range one\nAMD-Phenomtm-9500-Quad-Core-Processor\nlist index out of range one\nlist index out of range one\nlist index out of range one\nlist index out of range one\nlist index out of range one\nlist index out of range one\nlist index out of range one\nlist index out of range one\nlist index out of range one\n"
    }
   ],
   "source": [
    "import csv\n",
    "import time\n",
    "import pickle\n",
    "from lxml import html\n",
    "\n",
    "count = 0\n",
    "\n",
    "with open('CPU_UserBenchmarks.csv', newline='') as inputFile:\n",
    "    reader = csv.DictReader(inputFile)\n",
    "    with open('cpu.csv', 'w', newline='') as outputFile:\n",
    "        first = True\n",
    "        for row in reader:\n",
    "            if first:\n",
    "                fieldnames = reader._fieldnames\n",
    "                fieldnames.extend(info.keys())\n",
    "                writer = csv.DictWriter(outputFile, fieldnames)\n",
    "                writer.writeheader()\n",
    "                first = False\n",
    "            filename = row[\"URL\"].split('/')[-1]\n",
    "            try:\n",
    "                meh = pickle.load(open(f'cpu\\{filename}.response','rb'))\n",
    "                if type(meh) is str:\n",
    "                    page = html.fromstring(meh)\n",
    "                else:\n",
    "                    page = html.fromstring(meh.content)\n",
    "            except Exception as e:\n",
    "                #os.remove(f'cpu\\{filename}.response')\n",
    "                print('failed',filename, e)\n",
    "                break\n",
    "            print(filename)\n",
    "            for key in info:\n",
    "                try:\n",
    "                    row[key] = getXPathValue(**info[key])\n",
    "                except Exception as e:\n",
    "                    print(e, key)\n",
    "                    continue\n",
    "            writer.writerow(row)\n",
    "            count += 1\n",
    "            # if count > 1:\n",
    "            # break\n",
    "                # pass"
   ]
  },
  {
   "cell_type": "code",
   "execution_count": 149,
   "metadata": {},
   "outputs": [],
   "source": [
    "def getXPathValue(xpath, replace=False, removeLast=None, removeFirst=None, number=True):\n",
    "    global page\n",
    "    try:\n",
    "        data = page.xpath(xpath)[0]\n",
    "    except Exception as e:\n",
    "        print(e, 'one')\n",
    "        return\n",
    "    if replace != False:\n",
    "        data = data.replace(replace[0],replace[1])\n",
    "    if not removeLast is None:\n",
    "        data = data[:removeLast]\n",
    "    if not removeFirst is None and len(data) > 6:\n",
    "        data = data[removeFirst:]\n",
    "    if number:\n",
    "        return int(data)\n",
    "    return data"
   ]
  },
  {
   "cell_type": "code",
   "execution_count": 157,
   "metadata": {},
   "outputs": [
    {
     "output_type": "execute_result",
     "data": {
      "text/plain": "['FCLGA1151']"
     },
     "metadata": {},
     "execution_count": 157
    }
   ],
   "source": [
    "page.xpath('//td[text()=\"Sockets Supported\"]/../td/span/text()')"
   ]
  },
  {
   "cell_type": "code",
   "execution_count": 162,
   "metadata": {
    "tags": []
   },
   "outputs": [
    {
     "output_type": "stream",
     "name": "stdout",
     "text": "{'xpath': '//td[text()=\"Sockets Supported\"]/../td/span/text()', 'number': False}\n"
    },
    {
     "output_type": "execute_result",
     "data": {
      "text/plain": "'FCLGA1151'"
     },
     "metadata": {},
     "execution_count": 162
    }
   ],
   "source": [
    "print(info[\"Sockets Supported\"])\n",
    "getXPathValue(**info[\"Sockets Supported\"])"
   ]
  },
  {
   "cell_type": "code",
   "execution_count": 164,
   "metadata": {},
   "outputs": [
    {
     "output_type": "execute_result",
     "data": {
      "text/plain": "{'Type': 'CPU',\n 'Part Number': 'BX80684I99900KS',\n 'Brand': 'Intel',\n 'Model': 'Core i9-9900KS',\n 'Rank': '1',\n 'Benchmark': '103',\n 'Samples': '6462',\n 'URL': 'https://cpu.userbenchmark.com/SpeedTest/929964/IntelR-CoreTM-i9-9900KS-CPU---400GHz',\n 'Effective Speed': 14,\n 'Average Score': 19,\n 'Overclocked Score': 17,\n 'Value & Sentiment': -3307,\n 'Code Name': None,\n 'Launch Date': \"Q4'19\",\n 'Processor Number': 'i9-9900KS',\n '# of Cores': 8,\n '# of Threads': 16,\n 'Max TDP': 127,\n 'Price': None,\n 'Sockets Supported': 'FCLGA1151'}"
     },
     "metadata": {},
     "execution_count": 164
    }
   ],
   "source": [
    "row"
   ]
  }
 ]
}